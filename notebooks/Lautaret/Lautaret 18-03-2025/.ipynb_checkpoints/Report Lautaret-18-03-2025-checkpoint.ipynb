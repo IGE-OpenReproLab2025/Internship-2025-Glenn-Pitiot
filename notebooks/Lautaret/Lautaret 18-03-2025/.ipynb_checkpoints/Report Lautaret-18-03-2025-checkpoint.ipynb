{
 "cells": [
  {
   "cell_type": "markdown",
   "id": "b455f676-cf73-4868-ad40-3578107402be",
   "metadata": {},
   "source": [
    "# Report \n",
    "\n",
    "\n",
    "\n",
    "Repport opf the first day of experiment at Lautaret:\n",
    "\n",
    "**Who** : Charles.A, Laurent.A, Glenn.P, Kevin.F, Catherine.C, Hélène. ,Philipe.D\n",
    "\n",
    "**Where** : Flux Alpes\n",
    "\n",
    "**Task** :\n",
    "* TDR Installation\n",
    "* Density profile\n",
    "* SSA profile : ASSAP\n",
    "* Liquid Water Content profile : WISe\n",
    "* Spectral albedo surface : Solab\n",
    "    \n",
    "\n",
    "## Import of libraries"
   ]
  },
  {
   "cell_type": "code",
   "execution_count": 13,
   "id": "a7dcfafc-f717-4612-9543-d86dfdf3ac12",
   "metadata": {},
   "outputs": [
    {
     "name": "stdout",
     "output_type": "stream",
     "text": [
      "Good you've imported the necessary libraries.\n"
     ]
    }
   ],
   "source": [
    "# ================ IMPORTATIONS ================ #\n",
    "\n",
    "### DATA MANIPULATION ###\n",
    "\n",
    "import pandas as pd # used to manipulate 2D data into the data-frame\n",
    "\n",
    "import numpy as np # useful to handle matrix like datasets\n",
    "\n",
    "import seaborn as sns # useful for statistics\n",
    "\n",
    "### DATA REPRESENTATION ###\n",
    "\n",
    "import matplotlib.pyplot as plt # used for makings nice plots\n",
    "\n",
    "### PERSONAL SCRIPT ###\n",
    "\n",
    "import sys\n",
    "import os\n",
    "\n",
    "# Ajoute le dossier parent du notebook au sys.path\n",
    "sys.path.append(os.path.abspath(\"../../..\"))  # Monte d'un niveau\n",
    "\n",
    "from scripts.Comput import BM_permitivity\n",
    "\n",
    "print(\"Good you've imported the necessary libraries.\")"
   ]
  },
  {
   "attachments": {
    "a64f85e9-7a40-4258-8987-c64dd3dbce5a.jpg": {
     "image/jpeg": "[encoded data removed]"
    }
   },
   "cell_type": "markdown",
   "id": "57cf4707-1765-4aae-9d33-4024f29c0735",
   "metadata": {},
   "source": [
    "## TDR Instalation\n",
    "Schem which explain the location of each TDR in the snow pack of 178 cm at 18/03/2025\n",
    "\n",
    "![Schéma Placement TDR 18-03-2025.jpg](attachment:a64f85e9-7a40-4258-8987-c64dd3dbce5a.jpg)\n",
    "\n"
   ]
  },
  {
   "cell_type": "code",
   "execution_count": 14,
   "id": "3fbd49fb-9706-4419-a95a-203c83f29a03",
   "metadata": {},
   "outputs": [
    {
     "data": {
      "text/html": [
       "<div>\n",
       "<style scoped>\n",
       "    .dataframe tbody tr th:only-of-type {\n",
       "        vertical-align: middle;\n",
       "    }\n",
       "\n",
       "    .dataframe tbody tr th {\n",
       "        vertical-align: top;\n",
       "    }\n",
       "\n",
       "    .dataframe thead th {\n",
       "        text-align: right;\n",
       "    }\n",
       "</style>\n",
       "<table border=\"1\" class=\"dataframe\">\n",
       "  <thead>\n",
       "    <tr style=\"text-align: right;\">\n",
       "      <th></th>\n",
       "      <th>Elevation</th>\n",
       "      <th>TDR number</th>\n",
       "      <th>PT100 number</th>\n",
       "    </tr>\n",
       "  </thead>\n",
       "  <tbody>\n",
       "    <tr>\n",
       "      <th>0</th>\n",
       "      <td>5.5</td>\n",
       "      <td>1</td>\n",
       "      <td>3</td>\n",
       "    </tr>\n",
       "    <tr>\n",
       "      <th>1</th>\n",
       "      <td>25.5</td>\n",
       "      <td>2</td>\n",
       "      <td>4</td>\n",
       "    </tr>\n",
       "    <tr>\n",
       "      <th>2</th>\n",
       "      <td>45.5</td>\n",
       "      <td>3</td>\n",
       "      <td>5</td>\n",
       "    </tr>\n",
       "    <tr>\n",
       "      <th>3</th>\n",
       "      <td>65.5</td>\n",
       "      <td>4</td>\n",
       "      <td>6</td>\n",
       "    </tr>\n",
       "    <tr>\n",
       "      <th>4</th>\n",
       "      <td>82.0</td>\n",
       "      <td>5</td>\n",
       "      <td>7</td>\n",
       "    </tr>\n",
       "    <tr>\n",
       "      <th>5</th>\n",
       "      <td>92.0</td>\n",
       "      <td>6</td>\n",
       "      <td>8</td>\n",
       "    </tr>\n",
       "    <tr>\n",
       "      <th>6</th>\n",
       "      <td>102.0</td>\n",
       "      <td>7</td>\n",
       "      <td>9</td>\n",
       "    </tr>\n",
       "    <tr>\n",
       "      <th>7</th>\n",
       "      <td>112.0</td>\n",
       "      <td>8</td>\n",
       "      <td>10</td>\n",
       "    </tr>\n",
       "    <tr>\n",
       "      <th>8</th>\n",
       "      <td>122.0</td>\n",
       "      <td>9</td>\n",
       "      <td>11</td>\n",
       "    </tr>\n",
       "    <tr>\n",
       "      <th>9</th>\n",
       "      <td>132.0</td>\n",
       "      <td>10</td>\n",
       "      <td>12</td>\n",
       "    </tr>\n",
       "    <tr>\n",
       "      <th>10</th>\n",
       "      <td>142.0</td>\n",
       "      <td>11</td>\n",
       "      <td>13</td>\n",
       "    </tr>\n",
       "  </tbody>\n",
       "</table>\n",
       "</div>"
      ],
      "text/plain": [
       "    Elevation  TDR number  PT100 number\n",
       "0         5.5           1             3\n",
       "1        25.5           2             4\n",
       "2        45.5           3             5\n",
       "3        65.5           4             6\n",
       "4        82.0           5             7\n",
       "5        92.0           6             8\n",
       "6       102.0           7             9\n",
       "7       112.0           8            10\n",
       "8       122.0           9            11\n",
       "9       132.0          10            12\n",
       "10      142.0          11            13"
      ]
     },
     "execution_count": 14,
     "metadata": {},
     "output_type": "execute_result"
    }
   ],
   "source": [
    "df_TDR_PT100_location = pd.DataFrame({'z' : [5.5,25.5,45.5,65.5,82,92,102,112,122,132,142] ,'TDR number' : [1,2,3,4,5,6,7,8,9,10,11], 'PT100 number' : [3,4,5,6,7,8,9,10,11,12,13]})\n",
    "df_TDR_PT100_location"
   ]
  },
  {
   "cell_type": "markdown",
   "id": "cbc8df3d-608b-457d-9770-11210d749037",
   "metadata": {},
   "source": [
    "## Density profil\n",
    "\n",
    "The density profil was measure by density cutter each 5 cm:\n",
    "\n",
    "Weight of snow cutter : 457 g\n",
    "\n",
    "Comment: \n",
    "* z = 134 : Ice slab 3-4 cm\n",
    "* z = 64 : to hard to measure\n",
    "* z = 44,39,24 to hard\n",
    "* z = 4 ground with slope, impossible to measure"
   ]
  },
  {
   "cell_type": "code",
   "execution_count": 23,
   "id": "65e76d44-7b41-4793-bbc8-ec02c281f20d",
   "metadata": {},
   "outputs": [
    {
     "data": {
      "text/plain": [
       "array([  4.,   9.,  14.,  19.,  24.,  29.,  34.,  39.,  44.,  49.,  54.,\n",
       "        59.,  64.,  69.,  74.,  79.,  84.,  89.,  94.,  99., 104., 109.,\n",
       "       114., 119., 124., 129., 134., 139., 144., 149., 154., 159., 164.,\n",
       "       169., 174.])"
      ]
     },
     "execution_count": 23,
     "metadata": {},
     "output_type": "execute_result"
    }
   ],
   "source": [
    "np.linspace(4,174,35)"
   ]
  },
  {
   "cell_type": "code",
   "execution_count": 29,
   "id": "ea9122bb-945c-436c-977b-ecf4fd1991bd",
   "metadata": {},
   "outputs": [
    {
     "ename": "ValueError",
     "evalue": "All arrays must be of the same length",
     "output_type": "error",
     "traceback": [
      "\u001b[0;31m---------------------------------------------------------------------------\u001b[0m",
      "\u001b[0;31mValueError\u001b[0m                                Traceback (most recent call last)",
      "Cell \u001b[0;32mIn[29], line 1\u001b[0m\n\u001b[0;32m----> 1\u001b[0m df_density \u001b[38;5;241m=\u001b[39m \u001b[43mpd\u001b[49m\u001b[38;5;241;43m.\u001b[39;49m\u001b[43mDataFrame\u001b[49m\u001b[43m(\u001b[49m\u001b[43m{\u001b[49m\u001b[43m \u001b[49m\u001b[38;5;124;43m'\u001b[39;49m\u001b[38;5;124;43mz\u001b[39;49m\u001b[38;5;124;43m'\u001b[39;49m\u001b[43m \u001b[49m\u001b[43m:\u001b[49m\u001b[43m \u001b[49m\u001b[43mnp\u001b[49m\u001b[38;5;241;43m.\u001b[39;49m\u001b[43mlinspace\u001b[49m\u001b[43m(\u001b[49m\u001b[38;5;241;43m4\u001b[39;49m\u001b[43m,\u001b[49m\u001b[38;5;241;43m174\u001b[39;49m\u001b[43m,\u001b[49m\u001b[38;5;241;43m35\u001b[39;49m\u001b[43m)\u001b[49m\u001b[43m,\u001b[49m\u001b[43m \u001b[49m\n\u001b[1;32m      2\u001b[0m \u001b[43m                           \u001b[49m\u001b[38;5;124;43m'\u001b[39;49m\u001b[38;5;124;43mweight cuttur\u001b[39;49m\u001b[38;5;124;43m'\u001b[39;49m\u001b[43m \u001b[49m\u001b[43m:\u001b[49m\u001b[43m \u001b[49m\u001b[43m[\u001b[49m\u001b[38;5;241;43m499\u001b[39;49m\u001b[43m,\u001b[49m\u001b[38;5;241;43m483\u001b[39;49m\u001b[43m,\u001b[49m\u001b[38;5;241;43m487\u001b[39;49m\u001b[43m,\u001b[49m\u001b[38;5;241;43m499\u001b[39;49m\u001b[43m,\u001b[49m\u001b[38;5;241;43m521\u001b[39;49m\u001b[43m,\u001b[49m\u001b[38;5;241;43m515\u001b[39;49m\u001b[43m,\u001b[49m\u001b[38;5;241;43m519\u001b[39;49m\u001b[43m,\u001b[49m\u001b[38;5;241;43m511\u001b[39;49m\u001b[43m,\u001b[49m\u001b[38;5;241;43m563\u001b[39;49m\u001b[43m,\u001b[49m\u001b[38;5;241;43m538\u001b[39;49m\u001b[43m,\u001b[49m\u001b[38;5;241;43m537\u001b[39;49m\u001b[43m,\u001b[49m\u001b[38;5;241;43m537\u001b[39;49m\u001b[43m,\u001b[49m\u001b[38;5;241;43m546\u001b[39;49m\u001b[43m,\u001b[49m\u001b[38;5;241;43m544\u001b[39;49m\u001b[43m,\u001b[49m\u001b[38;5;241;43m539\u001b[39;49m\u001b[43m,\u001b[49m\u001b[38;5;241;43m548\u001b[39;49m\u001b[43m,\u001b[49m\u001b[38;5;241;43m538\u001b[39;49m\u001b[43m,\u001b[49m\u001b[38;5;241;43m548\u001b[39;49m\u001b[43m,\u001b[49m\u001b[38;5;241;43m556\u001b[39;49m\u001b[43m,\u001b[49m\u001b[38;5;241;43m549\u001b[39;49m\u001b[43m,\u001b[49m\u001b[38;5;241;43m566\u001b[39;49m\u001b[43m,\u001b[49m\u001b[43mnp\u001b[49m\u001b[38;5;241;43m.\u001b[39;49m\u001b[43mnan\u001b[49m\u001b[43m,\u001b[49m\u001b[38;5;241;43m556\u001b[39;49m\u001b[43m,\u001b[49m\u001b[38;5;241;43m563\u001b[39;49m\u001b[43m,\u001b[49m\u001b[38;5;241;43m572\u001b[39;49m\u001b[43m,\u001b[49m\u001b[43mnp\u001b[49m\u001b[38;5;241;43m.\u001b[39;49m\u001b[43mnan\u001b[49m\u001b[43m,\u001b[49m\u001b[43mnp\u001b[49m\u001b[38;5;241;43m.\u001b[39;49m\u001b[43mnan\u001b[49m\u001b[43m,\u001b[49m\u001b[38;5;241;43m556\u001b[39;49m\u001b[43m,\u001b[49m\u001b[38;5;241;43m561\u001b[39;49m\u001b[43m,\u001b[49m\u001b[43mnp\u001b[49m\u001b[38;5;241;43m.\u001b[39;49m\u001b[43mnan\u001b[49m\u001b[43m,\u001b[49m\u001b[38;5;241;43m559\u001b[39;49m\u001b[43m,\u001b[49m\u001b[38;5;241;43m554\u001b[39;49m\u001b[43m,\u001b[49m\u001b[38;5;241;43m559\u001b[39;49m\u001b[43m,\u001b[49m\u001b[43mnp\u001b[49m\u001b[38;5;241;43m.\u001b[39;49m\u001b[43mnan\u001b[49m\u001b[43m]\u001b[49m\u001b[43m}\u001b[49m\u001b[43m)\u001b[49m\n",
      "File \u001b[0;32m/srv/conda/envs/notebook/lib/python3.12/site-packages/pandas/core/frame.py:778\u001b[0m, in \u001b[0;36mDataFrame.__init__\u001b[0;34m(self, data, index, columns, dtype, copy)\u001b[0m\n\u001b[1;32m    772\u001b[0m     mgr \u001b[38;5;241m=\u001b[39m \u001b[38;5;28mself\u001b[39m\u001b[38;5;241m.\u001b[39m_init_mgr(\n\u001b[1;32m    773\u001b[0m         data, axes\u001b[38;5;241m=\u001b[39m{\u001b[38;5;124m\"\u001b[39m\u001b[38;5;124mindex\u001b[39m\u001b[38;5;124m\"\u001b[39m: index, \u001b[38;5;124m\"\u001b[39m\u001b[38;5;124mcolumns\u001b[39m\u001b[38;5;124m\"\u001b[39m: columns}, dtype\u001b[38;5;241m=\u001b[39mdtype, copy\u001b[38;5;241m=\u001b[39mcopy\n\u001b[1;32m    774\u001b[0m     )\n\u001b[1;32m    776\u001b[0m \u001b[38;5;28;01melif\u001b[39;00m \u001b[38;5;28misinstance\u001b[39m(data, \u001b[38;5;28mdict\u001b[39m):\n\u001b[1;32m    777\u001b[0m     \u001b[38;5;66;03m# GH#38939 de facto copy defaults to False only in non-dict cases\u001b[39;00m\n\u001b[0;32m--> 778\u001b[0m     mgr \u001b[38;5;241m=\u001b[39m \u001b[43mdict_to_mgr\u001b[49m\u001b[43m(\u001b[49m\u001b[43mdata\u001b[49m\u001b[43m,\u001b[49m\u001b[43m \u001b[49m\u001b[43mindex\u001b[49m\u001b[43m,\u001b[49m\u001b[43m \u001b[49m\u001b[43mcolumns\u001b[49m\u001b[43m,\u001b[49m\u001b[43m \u001b[49m\u001b[43mdtype\u001b[49m\u001b[38;5;241;43m=\u001b[39;49m\u001b[43mdtype\u001b[49m\u001b[43m,\u001b[49m\u001b[43m \u001b[49m\u001b[43mcopy\u001b[49m\u001b[38;5;241;43m=\u001b[39;49m\u001b[43mcopy\u001b[49m\u001b[43m,\u001b[49m\u001b[43m \u001b[49m\u001b[43mtyp\u001b[49m\u001b[38;5;241;43m=\u001b[39;49m\u001b[43mmanager\u001b[49m\u001b[43m)\u001b[49m\n\u001b[1;32m    779\u001b[0m \u001b[38;5;28;01melif\u001b[39;00m \u001b[38;5;28misinstance\u001b[39m(data, ma\u001b[38;5;241m.\u001b[39mMaskedArray):\n\u001b[1;32m    780\u001b[0m     \u001b[38;5;28;01mfrom\u001b[39;00m\u001b[38;5;250m \u001b[39m\u001b[38;5;21;01mnumpy\u001b[39;00m\u001b[38;5;21;01m.\u001b[39;00m\u001b[38;5;21;01mma\u001b[39;00m\u001b[38;5;250m \u001b[39m\u001b[38;5;28;01mimport\u001b[39;00m mrecords\n",
      "File \u001b[0;32m/srv/conda/envs/notebook/lib/python3.12/site-packages/pandas/core/internals/construction.py:503\u001b[0m, in \u001b[0;36mdict_to_mgr\u001b[0;34m(data, index, columns, dtype, typ, copy)\u001b[0m\n\u001b[1;32m    499\u001b[0m     \u001b[38;5;28;01melse\u001b[39;00m:\n\u001b[1;32m    500\u001b[0m         \u001b[38;5;66;03m# dtype check to exclude e.g. range objects, scalars\u001b[39;00m\n\u001b[1;32m    501\u001b[0m         arrays \u001b[38;5;241m=\u001b[39m [x\u001b[38;5;241m.\u001b[39mcopy() \u001b[38;5;28;01mif\u001b[39;00m \u001b[38;5;28mhasattr\u001b[39m(x, \u001b[38;5;124m\"\u001b[39m\u001b[38;5;124mdtype\u001b[39m\u001b[38;5;124m\"\u001b[39m) \u001b[38;5;28;01melse\u001b[39;00m x \u001b[38;5;28;01mfor\u001b[39;00m x \u001b[38;5;129;01min\u001b[39;00m arrays]\n\u001b[0;32m--> 503\u001b[0m \u001b[38;5;28;01mreturn\u001b[39;00m \u001b[43marrays_to_mgr\u001b[49m\u001b[43m(\u001b[49m\u001b[43marrays\u001b[49m\u001b[43m,\u001b[49m\u001b[43m \u001b[49m\u001b[43mcolumns\u001b[49m\u001b[43m,\u001b[49m\u001b[43m \u001b[49m\u001b[43mindex\u001b[49m\u001b[43m,\u001b[49m\u001b[43m \u001b[49m\u001b[43mdtype\u001b[49m\u001b[38;5;241;43m=\u001b[39;49m\u001b[43mdtype\u001b[49m\u001b[43m,\u001b[49m\u001b[43m \u001b[49m\u001b[43mtyp\u001b[49m\u001b[38;5;241;43m=\u001b[39;49m\u001b[43mtyp\u001b[49m\u001b[43m,\u001b[49m\u001b[43m \u001b[49m\u001b[43mconsolidate\u001b[49m\u001b[38;5;241;43m=\u001b[39;49m\u001b[43mcopy\u001b[49m\u001b[43m)\u001b[49m\n",
      "File \u001b[0;32m/srv/conda/envs/notebook/lib/python3.12/site-packages/pandas/core/internals/construction.py:114\u001b[0m, in \u001b[0;36marrays_to_mgr\u001b[0;34m(arrays, columns, index, dtype, verify_integrity, typ, consolidate)\u001b[0m\n\u001b[1;32m    111\u001b[0m \u001b[38;5;28;01mif\u001b[39;00m verify_integrity:\n\u001b[1;32m    112\u001b[0m     \u001b[38;5;66;03m# figure out the index, if necessary\u001b[39;00m\n\u001b[1;32m    113\u001b[0m     \u001b[38;5;28;01mif\u001b[39;00m index \u001b[38;5;129;01mis\u001b[39;00m \u001b[38;5;28;01mNone\u001b[39;00m:\n\u001b[0;32m--> 114\u001b[0m         index \u001b[38;5;241m=\u001b[39m \u001b[43m_extract_index\u001b[49m\u001b[43m(\u001b[49m\u001b[43marrays\u001b[49m\u001b[43m)\u001b[49m\n\u001b[1;32m    115\u001b[0m     \u001b[38;5;28;01melse\u001b[39;00m:\n\u001b[1;32m    116\u001b[0m         index \u001b[38;5;241m=\u001b[39m ensure_index(index)\n",
      "File \u001b[0;32m/srv/conda/envs/notebook/lib/python3.12/site-packages/pandas/core/internals/construction.py:677\u001b[0m, in \u001b[0;36m_extract_index\u001b[0;34m(data)\u001b[0m\n\u001b[1;32m    675\u001b[0m lengths \u001b[38;5;241m=\u001b[39m \u001b[38;5;28mlist\u001b[39m(\u001b[38;5;28mset\u001b[39m(raw_lengths))\n\u001b[1;32m    676\u001b[0m \u001b[38;5;28;01mif\u001b[39;00m \u001b[38;5;28mlen\u001b[39m(lengths) \u001b[38;5;241m>\u001b[39m \u001b[38;5;241m1\u001b[39m:\n\u001b[0;32m--> 677\u001b[0m     \u001b[38;5;28;01mraise\u001b[39;00m \u001b[38;5;167;01mValueError\u001b[39;00m(\u001b[38;5;124m\"\u001b[39m\u001b[38;5;124mAll arrays must be of the same length\u001b[39m\u001b[38;5;124m\"\u001b[39m)\n\u001b[1;32m    679\u001b[0m \u001b[38;5;28;01mif\u001b[39;00m have_dicts:\n\u001b[1;32m    680\u001b[0m     \u001b[38;5;28;01mraise\u001b[39;00m \u001b[38;5;167;01mValueError\u001b[39;00m(\n\u001b[1;32m    681\u001b[0m         \u001b[38;5;124m\"\u001b[39m\u001b[38;5;124mMixing dicts with non-Series may lead to ambiguous ordering.\u001b[39m\u001b[38;5;124m\"\u001b[39m\n\u001b[1;32m    682\u001b[0m     )\n",
      "\u001b[0;31mValueError\u001b[0m: All arrays must be of the same length"
     ]
    }
   ],
   "source": [
    "df_density = pd.DataFrame({ 'z' : np.linspace(4,174,35), \n",
    "                           'weight cuttur' : [499,483,487,499,521,515,519,511,563,538,537,537,546,544,539,548,538,548,556,549,561,np.nan,556,563,572,np.nan,np.nan,556,561,np.nan,559,554,559,np.nan]})"
   ]
  },
  {
   "cell_type": "code",
   "execution_count": null,
   "id": "ab511007-63fc-42f0-a37e-d02a0c1a7a5c",
   "metadata": {},
   "outputs": [],
   "source": []
  }
 ],
 "metadata": {
  "kernelspec": {
   "display_name": "Python 3 (ipykernel)",
   "language": "python",
   "name": "python3"
  },
  "language_info": {
   "codemirror_mode": {
    "name": "ipython",
    "version": 3
   },
   "file_extension": ".py",
   "mimetype": "text/x-python",
   "name": "python",
   "nbconvert_exporter": "python",
   "pygments_lexer": "ipython3",
   "version": "3.12.8"
  }
 },
 "nbformat": 4,
 "nbformat_minor": 5
}
