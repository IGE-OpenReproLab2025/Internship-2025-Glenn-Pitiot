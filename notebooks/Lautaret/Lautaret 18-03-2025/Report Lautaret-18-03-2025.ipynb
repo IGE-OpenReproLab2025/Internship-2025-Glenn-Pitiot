{
 "cells": [
  {
   "cell_type": "markdown",
   "id": "b455f676-cf73-4868-ad40-3578107402be",
   "metadata": {},
   "source": [
    "# Report \n",
    "\n",
    "\n",
    "\n",
    "Repport of the first day of experiment at Lautaret:\n",
    "\n",
    "**Who** : Charles.A, Laurent.A, Glenn.P, Kevin.F, Catherine.C, Hélène. ,Philipe.D\n",
    "\n",
    "**Where** : Flux Alpes\n",
    "\n",
    "**Task** :\n",
    "* TDR Installation\n",
    "* Density profile\n",
    "* SSA profile : ASSAP\n",
    "* Liquid Water Content profile : WISe\n",
    "* Spectral albedo surface : Solab\n",
    "    \n",
    "\n",
    "## Import of libraries"
   ]
  },
  {
   "cell_type": "code",
   "execution_count": 2,
   "id": "a7dcfafc-f717-4612-9543-d86dfdf3ac12",
   "metadata": {},
   "outputs": [
    {
     "name": "stdout",
     "output_type": "stream",
     "text": [
      "Good you've imported the necessary libraries.\n"
     ]
    }
   ],
   "source": [
    "# ================ IMPORTATIONS ================ #\n",
    "\n",
    "### DATA MANIPULATION ###\n",
    "\n",
    "import pandas as pd # used to manipulate 2D data into the data-frame\n",
    "\n",
    "import numpy as np # useful to handle matrix like datasets\n",
    "\n",
    "import seaborn as sns # useful for statistics\n",
    "\n",
    "### DATA REPRESENTATION ###\n",
    "\n",
    "import matplotlib.pyplot as plt # used for makings nice plots\n",
    "\n",
    "### PERSONAL SCRIPT ###\n",
    "\n",
    "import sys\n",
    "import os\n",
    "\n",
    "# Ajoute le dossier parent du notebook au sys.path\n",
    "sys.path.append(os.path.abspath(\"../../..\"))  # Monte d'un niveau\n",
    "\n",
    "from scripts.Comput import *\n",
    "\n",
    "print(\"Good you've imported the necessary libraries.\")"
   ]
  },
  {
   "attachments": {
    "a64f85e9-7a40-4258-8987-c64dd3dbce5a.jpg": {
     "image/jpeg": "[encoded data removed]"
    }
   },
   "cell_type": "markdown",
   "id": "57cf4707-1765-4aae-9d33-4024f29c0735",
   "metadata": {},
   "source": [
    "## TDR Instalation\n",
    "Schem which explain the location of each TDR in the snow pack of 178 cm at 18/03/2025\n",
    "\n",
    "![Schéma Placement TDR 18-03-2025.jpg](attachment:a64f85e9-7a40-4258-8987-c64dd3dbce5a.jpg)\n",
    "\n"
   ]
  },
  {
   "cell_type": "code",
   "execution_count": 3,
   "id": "3fbd49fb-9706-4419-a95a-203c83f29a03",
   "metadata": {},
   "outputs": [
    {
     "data": {
      "text/html": [
       "<div>\n",
       "<style scoped>\n",
       "    .dataframe tbody tr th:only-of-type {\n",
       "        vertical-align: middle;\n",
       "    }\n",
       "\n",
       "    .dataframe tbody tr th {\n",
       "        vertical-align: top;\n",
       "    }\n",
       "\n",
       "    .dataframe thead th {\n",
       "        text-align: right;\n",
       "    }\n",
       "</style>\n",
       "<table border=\"1\" class=\"dataframe\">\n",
       "  <thead>\n",
       "    <tr style=\"text-align: right;\">\n",
       "      <th></th>\n",
       "      <th>Z</th>\n",
       "      <th>TDR number</th>\n",
       "      <th>PT100 number</th>\n",
       "    </tr>\n",
       "  </thead>\n",
       "  <tbody>\n",
       "    <tr>\n",
       "      <th>0</th>\n",
       "      <td>5.5</td>\n",
       "      <td>1</td>\n",
       "      <td>3</td>\n",
       "    </tr>\n",
       "    <tr>\n",
       "      <th>1</th>\n",
       "      <td>25.5</td>\n",
       "      <td>2</td>\n",
       "      <td>4</td>\n",
       "    </tr>\n",
       "    <tr>\n",
       "      <th>2</th>\n",
       "      <td>45.5</td>\n",
       "      <td>3</td>\n",
       "      <td>5</td>\n",
       "    </tr>\n",
       "    <tr>\n",
       "      <th>3</th>\n",
       "      <td>65.5</td>\n",
       "      <td>4</td>\n",
       "      <td>6</td>\n",
       "    </tr>\n",
       "    <tr>\n",
       "      <th>4</th>\n",
       "      <td>82.0</td>\n",
       "      <td>5</td>\n",
       "      <td>7</td>\n",
       "    </tr>\n",
       "    <tr>\n",
       "      <th>5</th>\n",
       "      <td>92.0</td>\n",
       "      <td>6</td>\n",
       "      <td>8</td>\n",
       "    </tr>\n",
       "    <tr>\n",
       "      <th>6</th>\n",
       "      <td>102.0</td>\n",
       "      <td>7</td>\n",
       "      <td>9</td>\n",
       "    </tr>\n",
       "    <tr>\n",
       "      <th>7</th>\n",
       "      <td>112.0</td>\n",
       "      <td>8</td>\n",
       "      <td>10</td>\n",
       "    </tr>\n",
       "    <tr>\n",
       "      <th>8</th>\n",
       "      <td>122.0</td>\n",
       "      <td>9</td>\n",
       "      <td>11</td>\n",
       "    </tr>\n",
       "    <tr>\n",
       "      <th>9</th>\n",
       "      <td>132.0</td>\n",
       "      <td>10</td>\n",
       "      <td>12</td>\n",
       "    </tr>\n",
       "    <tr>\n",
       "      <th>10</th>\n",
       "      <td>142.0</td>\n",
       "      <td>11</td>\n",
       "      <td>13</td>\n",
       "    </tr>\n",
       "  </tbody>\n",
       "</table>\n",
       "</div>"
      ],
      "text/plain": [
       "        Z  TDR number  PT100 number\n",
       "0     5.5           1             3\n",
       "1    25.5           2             4\n",
       "2    45.5           3             5\n",
       "3    65.5           4             6\n",
       "4    82.0           5             7\n",
       "5    92.0           6             8\n",
       "6   102.0           7             9\n",
       "7   112.0           8            10\n",
       "8   122.0           9            11\n",
       "9   132.0          10            12\n",
       "10  142.0          11            13"
      ]
     },
     "execution_count": 3,
     "metadata": {},
     "output_type": "execute_result"
    }
   ],
   "source": [
    "df_TDR_PT100_location = pd.DataFrame({'Z' : [5.5,25.5,45.5,65.5,82,92,102,112,122,132,142] ,'TDR number' : [1,2,3,4,5,6,7,8,9,10,11], 'PT100 number' : [3,4,5,6,7,8,9,10,11,12,13]})\n",
    "df_TDR_PT100_location"
   ]
  },
  {
   "cell_type": "markdown",
   "id": "e8ffc73a-82b8-43ff-8fd2-7c618538a36c",
   "metadata": {},
   "source": [
    "## General values"
   ]
  },
  {
   "cell_type": "code",
   "execution_count": 4,
   "id": "99e8c6ef-b756-4c0b-8674-1becbc21619e",
   "metadata": {},
   "outputs": [],
   "source": [
    "thickness = 1.78 # thickness of snow [m]\n",
    "\n",
    "# Folder where all the mesears are stack\n",
    "data_folder = \"~/private-storage/Experiences/Lautaret/Lautaret-17-03-2025-Instalation-TDR/data/\""
   ]
  },
  {
   "cell_type": "markdown",
   "id": "cbc8df3d-608b-457d-9770-11210d749037",
   "metadata": {},
   "source": [
    "## Density profil with cutter\n",
    "\n",
    "The density profil was measure by density cutter each 5 cm:\n",
    "\n",
    "Weight of snow cutter : 457 g\n",
    "\n",
    "Comment: \n",
    "* Z = 134 : Ice slab 3-4 cm\n",
    "* Z = 64 : to hard to measure\n",
    "* Z = 44,39,24 to hard\n",
    "* Z = 4 ground with slope, impossible to measure"
   ]
  },
  {
   "cell_type": "code",
   "execution_count": 5,
   "id": "ea9122bb-945c-436c-977b-ecf4fd1991bd",
   "metadata": {},
   "outputs": [],
   "source": [
    "# General values\n",
    "w_sc = 0.457 # Weight of snow cutter without snow [g]\n",
    "\n",
    "# Definition profil of snow cutter weight with snow.\n",
    "file_name = \"Cutter_weight_profile.csv\"\n",
    "df_density = pd.read_csv(data_folder+file_name, delimiter=';')\n",
    "# Conversion into density: density = weight / volume with\n",
    "df_density['density [kg/m3]'] = (df_density['Cutter_weight_[g]'] - w_sc*1000) * 4\n",
    "df_density = df_density.drop(columns=['Cutter_weight_[g]'])"
   ]
  },
  {
   "cell_type": "code",
   "execution_count": 6,
   "id": "4ff56a51-ddc6-49db-abb1-64a8e5d4b385",
   "metadata": {
    "scrolled": true
   },
   "outputs": [
    {
     "data": {
      "image/png": "[encoded data removed]",
      "text/plain": [
       "<Figure size 400x800 with 1 Axes>"
      ]
     },
     "metadata": {},
     "output_type": "display_data"
    }
   ],
   "source": [
    "def generate_step_values_for_density_plot(x_points, y_points,thickness):\n",
    "    '''\n",
    "    Processed data for generation of density plot\n",
    "\n",
    "    Input\n",
    "    x_point : List of mesures beging at the top oh the snow layer \n",
    "    y_point : List of elevation for each values of mesures begining at the top\n",
    "\n",
    "    Output:\n",
    "    x_values, yvalues for plot of step\n",
    "    '''\n",
    "    \n",
    "    x_values = [x_points[0],x_points[0]]  # On commence à x = 0\n",
    "    y_values = [thickness,y_points[0]]  # Première valeur de y\n",
    "\n",
    "    for i in range(len(x_points)):\n",
    "        x_values.extend([x_points[i], x_points[i]])\n",
    "        y_values.extend([y_points[i], y_points[i] if i < len(y_points) - 1 else None])\n",
    "\n",
    "    x_values.pop()  # Supprime le dernier élément inutile de x_values\n",
    "    y_values.pop()  # Supprime le dernier élément inutile de y_values\n",
    "\n",
    "    return x_values, y_values\n",
    "\n",
    "# PLOT ####################################################################################################################\n",
    "plt.figure(figsize=(4, 8))\n",
    "x,y = generate_step_values_for_density_plot(df_density['density [kg/m3]'],df_density.Z*10e-3,thickness)\n",
    "plt.step(x,y,where='post')\n",
    "# Labels and titles\n",
    "\n",
    "plt.xlabel('Density [kg/m^3]')\n",
    "plt.ylabel('z [m]')\n",
    "plt.title(\"Density profile\")\n",
    "plt.grid()"
   ]
  },
  {
   "cell_type": "markdown",
   "id": "df403f32-70e0-4a93-a568-ceb6fb2fcf2f",
   "metadata": {},
   "source": [
    "## Liquid water content profil with WISe\n",
    "\n",
    "The Liquid water content profil was measure by WISe each 5cm:\n",
    "\n",
    "Explication Ambach :\n",
    "\n",
    "\n"
   ]
  },
  {
   "cell_type": "code",
   "execution_count": 12,
   "id": "892f9630-ffc6-4399-8f2b-d28d3303c569",
   "metadata": {},
   "outputs": [
    {
     "name": "stdout",
     "output_type": "stream",
     "text": [
      "[0.06292812]\n"
     ]
    },
    {
     "data": {
      "image/png": "[encoded data removed]",
      "text/plain": [
       "<Figure size 400x800 with 1 Axes>"
      ]
     },
     "metadata": {},
     "output_type": "display_data"
    }
   ],
   "source": [
    "# Creat a data frame with all measures.\n",
    "file_name = \"LWC_profile.csv\"\n",
    "df_LWC_profile = pd.read_csv(data_folder+file_name, delimiter=';')\n",
    "########################################################################################################\n",
    "# Convert permittivy with density into Liquid Water content. \n",
    "########################################################################################################\n",
    "\n",
    "# First step we need to merge closer values of permitivity and density respect to elveation. ###########\n",
    "\n",
    "# Sauvegarde de l'ordre initial\n",
    "df_LWC_profile['_order'] = range(len(df_LWC_profile))\n",
    "\n",
    "# Fusion en triant temporairement les DataFrames\n",
    "df_LWC_profile = pd.merge_asof(\n",
    "            df_LWC_profile.sort_values('Z'),\n",
    "            df_density.sort_values('Z'),\n",
    "            on='Z',\n",
    "            direction='nearest')\n",
    "# Restauration de l'ordre d'origine\n",
    "df_LWC_profile = df_LWC_profile.sort_values('_order').drop(columns=['_order'])\n",
    "\n",
    "\n",
    "# Comput Liquid water content with Ambach and Dent law##################################################\n",
    "\n",
    "def Ambach_Dent(Perm,D_bulk):\n",
    "    '''From Ambacht et Dent (1980)\n",
    "    Permitivity : List dialectric permittivity \n",
    "    Density_bulk : List bulk density [kg/m^3]\n",
    "    return\n",
    "    lwc : liquid water content \n",
    "    '''\n",
    "    Perm = np.array(Perm)\n",
    "    D_bulk = np.array(D_bulk)\n",
    "    Lwc = D_bulk*0\n",
    "    for i in range(5):\n",
    "        Ds = D_bulk/1000 - Lwc\n",
    "        Lwc = (Perm- 1 - 1.202*Ds - 0.983*Ds**2)/21.3\n",
    "    return Lwc\n",
    "\n",
    " #   𝑊𝑣 = (𝜀 - 1 – 1.202 * Ds – 0.983 * Ds²)/21.3\n",
    "\n",
    "    \n",
    "Perm = [2.269]\n",
    "D_bulk = [0.350]\n",
    "print(Ambach_Dent(Perm,D_bulk))\n",
    "df_LWC_profile['LWC [vol%]'] = Ambach_Dent(df_LWC_profile['Permitivity'], df_LWC_profile['density [kg/m3]'])\n",
    "\n",
    "######################################################################################################\n",
    "# PLOT \n",
    "######################################################################################################\n",
    "plt.figure(figsize=(4, 8))\n",
    "x,y = generate_step_values_for_density_plot(df_LWC_profile['LWC [vol%]'],df_LWC_profile.Z*10e-3,thickness)\n",
    "plt.step(x,y,where='post')\n",
    "# Labels and titles\n",
    "\n",
    "plt.xlabel('LWC [vol.%]')\n",
    "plt.ylabel('z [m]')\n",
    "plt.title(\"Density profile\")\n",
    "plt.grid()"
   ]
  },
  {
   "cell_type": "code",
   "execution_count": null,
   "id": "eb61fe56-b23f-4260-b29a-0ed66eb2497c",
   "metadata": {},
   "outputs": [],
   "source": [
    "df_LWC_profile"
   ]
  },
  {
   "cell_type": "code",
   "execution_count": null,
   "id": "2b490670-b1b7-40c9-b6a0-ee2e421deb17",
   "metadata": {},
   "outputs": [],
   "source": []
  },
  {
   "cell_type": "code",
   "execution_count": null,
   "id": "eac0a12b-a86e-4ca9-8769-322baf93bd83",
   "metadata": {},
   "outputs": [],
   "source": []
  },
  {
   "cell_type": "code",
   "execution_count": null,
   "id": "bb1538f8-390c-4c5f-a4b3-c7717762196e",
   "metadata": {},
   "outputs": [],
   "source": []
  },
  {
   "cell_type": "code",
   "execution_count": null,
   "id": "c1b8a2ad-db27-4495-b74f-bb8470c37c14",
   "metadata": {},
   "outputs": [],
   "source": []
  },
  {
   "cell_type": "code",
   "execution_count": null,
   "id": "d4324a29-954c-436c-8feb-040355a42f74",
   "metadata": {},
   "outputs": [],
   "source": []
  },
  {
   "cell_type": "code",
   "execution_count": null,
   "id": "6359315a-fbbd-4030-b1b1-fdd1f8e10a9d",
   "metadata": {},
   "outputs": [],
   "source": []
  },
  {
   "cell_type": "code",
   "execution_count": null,
   "id": "3a7a95f5-1492-4adc-bf9b-3387f9705af0",
   "metadata": {},
   "outputs": [],
   "source": []
  },
  {
   "cell_type": "code",
   "execution_count": null,
   "id": "f8c0a387-af3e-4c6b-80d9-1011ff6180fd",
   "metadata": {},
   "outputs": [],
   "source": []
  },
  {
   "cell_type": "code",
   "execution_count": null,
   "id": "a4114f8a-a243-4864-9de6-43b879dd0772",
   "metadata": {},
   "outputs": [],
   "source": []
  },
  {
   "cell_type": "code",
   "execution_count": null,
   "id": "9adbc596-6c4d-4e7a-a4c1-935d8475de7a",
   "metadata": {},
   "outputs": [],
   "source": []
  },
  {
   "cell_type": "code",
   "execution_count": null,
   "id": "727543a8-cd76-4ac3-ab6e-02b7386dcfa3",
   "metadata": {},
   "outputs": [],
   "source": []
  }
 ],
 "metadata": {
  "kernelspec": {
   "display_name": "Python 3 (ipykernel)",
   "language": "python",
   "name": "python3"
  },
  "language_info": {
   "codemirror_mode": {
    "name": "ipython",
    "version": 3
   },
   "file_extension": ".py",
   "mimetype": "text/x-python",
   "name": "python",
   "nbconvert_exporter": "python",
   "pygments_lexer": "ipython3",
   "version": "3.12.8"
  }
 },
 "nbformat": 4,
 "nbformat_minor": 5
}
