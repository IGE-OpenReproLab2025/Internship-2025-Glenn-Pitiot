{
 "cells": [
  {
   "cell_type": "markdown",
   "id": "81c456f5-63f0-4d2d-9026-7c639d69c516",
   "metadata": {},
   "source": [
    "# Report 18/03/2025"
   ]
  },
  {
   "cell_type": "code",
   "execution_count": null,
   "id": "029655d0-61af-43a7-af54-34b8fe21630f",
   "metadata": {},
   "outputs": [],
   "source": []
  }
 ],
 "metadata": {
  "kernelspec": {
   "display_name": "Python 3 (ipykernel)",
   "language": "python",
   "name": "python3"
  },
  "language_info": {
   "codemirror_mode": {
    "name": "ipython",
    "version": 3
   },
   "file_extension": ".py",
   "mimetype": "text/x-python",
   "name": "python",
   "nbconvert_exporter": "python",
   "pygments_lexer": "ipython3",
   "version": "3.12.8"
  }
 },
 "nbformat": 4,
 "nbformat_minor": 5
}
